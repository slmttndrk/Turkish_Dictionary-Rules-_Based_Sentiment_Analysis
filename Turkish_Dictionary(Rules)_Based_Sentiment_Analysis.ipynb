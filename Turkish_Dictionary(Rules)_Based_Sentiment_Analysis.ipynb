{
 "cells": [
  {
   "cell_type": "markdown",
   "metadata": {},
   "source": [
    "# Turkish Dictionary(Rules) Based Sentiment Analysis"
   ]
  },
  {
   "cell_type": "markdown",
   "metadata": {},
   "source": [
    "# Step 1: import required libs"
   ]
  },
  {
   "cell_type": "code",
   "execution_count": 1,
   "metadata": {},
   "outputs": [],
   "source": [
    "import nltk\n",
    "import string\n",
    "import numpy as np\n",
    "import pandas as pd\n",
    "from sklearn.utils import shuffle\n",
    "from sklearn.externals import joblib\n",
    "from sklearn.pipeline import Pipeline\n",
    "from sklearn.metrics import roc_auc_score\n",
    "from sklearn.metrics import confusion_matrix\n",
    "from classifier.dbsa import DictionaryBasedSentimentAnalyzer\n",
    "from sklearn.metrics import classification_report\n",
    "from sklearn.model_selection import cross_val_score,cross_validate\n",
    "from sklearn.metrics import make_scorer, accuracy_score, f1_score, precision_score, recall_score"
   ]
  },
  {
   "cell_type": "markdown",
   "metadata": {},
   "source": [
    "# Step 2: import  Verius NLP tools"
   ]
  },
  {
   "cell_type": "code",
   "execution_count": 2,
   "metadata": {},
   "outputs": [],
   "source": [
    "from veriusapigateway import VeriUsAPIGateway\n",
    "vu = VeriUsAPIGateway(\"API_KEY\")"
   ]
  },
  {
   "cell_type": "markdown",
   "metadata": {},
   "source": [
    "# Step 3: load the dataset"
   ]
  },
  {
   "cell_type": "code",
   "execution_count": 3,
   "metadata": {},
   "outputs": [],
   "source": [
    "df = pd.read_csv('./sample_beyazperde_dataset.csv')"
   ]
  },
  {
   "cell_type": "markdown",
   "metadata": {},
   "source": [
    "# Step 4: drop the \"NAN\" values from dataset"
   ]
  },
  {
   "cell_type": "code",
   "execution_count": 4,
   "metadata": {},
   "outputs": [],
   "source": [
    "df.dropna(inplace=True)"
   ]
  },
  {
   "cell_type": "markdown",
   "metadata": {},
   "source": [
    "# Step 5:  drop \"Neutral\" labeled data if there exists"
   ]
  },
  {
   "cell_type": "code",
   "execution_count": 5,
   "metadata": {},
   "outputs": [],
   "source": [
    "df = df[df.target !=\"Neutral\"]"
   ]
  },
  {
   "cell_type": "markdown",
   "metadata": {},
   "source": [
    "# Step 6:  drop punctuations and lower the sentences"
   ]
  },
  {
   "cell_type": "code",
   "execution_count": 6,
   "metadata": {},
   "outputs": [],
   "source": [
    "def drop_punctuations(raw_text):\n",
    "    clean_data = [] \n",
    "    for text in raw_text:\n",
    "        tokens = nltk.word_tokenize(text)\n",
    "        tokens = [w.lower() for w in tokens]\n",
    "\n",
    "        table = str.maketrans('', '', string.punctuation)\n",
    "        words = [w.translate(table) for w in tokens]\n",
    "        clean_data.append(\" \".join([w for w in words]))\n",
    "    \n",
    "    return clean_data"
   ]
  },
  {
   "cell_type": "code",
   "execution_count": 7,
   "metadata": {},
   "outputs": [
    {
     "data": {
      "text/html": [
       "<div>\n",
       "<style scoped>\n",
       "    .dataframe tbody tr th:only-of-type {\n",
       "        vertical-align: middle;\n",
       "    }\n",
       "\n",
       "    .dataframe tbody tr th {\n",
       "        vertical-align: top;\n",
       "    }\n",
       "\n",
       "    .dataframe thead th {\n",
       "        text-align: right;\n",
       "    }\n",
       "</style>\n",
       "<table border=\"1\" class=\"dataframe\">\n",
       "  <thead>\n",
       "    <tr style=\"text-align: right;\">\n",
       "      <th></th>\n",
       "      <th>target</th>\n",
       "      <th>text</th>\n",
       "      <th>punctuations_dropped</th>\n",
       "    </tr>\n",
       "  </thead>\n",
       "  <tbody>\n",
       "    <tr>\n",
       "      <th>1</th>\n",
       "      <td>Positive</td>\n",
       "      <td>Çok kaliteli bir film.Yönetmen niccol az sayıd...</td>\n",
       "      <td>çok kaliteli bir filmyönetmen niccol az sayıda...</td>\n",
       "    </tr>\n",
       "    <tr>\n",
       "      <th>2</th>\n",
       "      <td>Positive</td>\n",
       "      <td>EN İYİ TURK FİLMİ</td>\n",
       "      <td>en i̇yi̇ turk fi̇lmi̇</td>\n",
       "    </tr>\n",
       "    <tr>\n",
       "      <th>3</th>\n",
       "      <td>Positive</td>\n",
       "      <td>Robert Downey Jr. müthiş ötesi oynamış. Cidden...</td>\n",
       "      <td>robert downey jr müthiş ötesi oynamış  cidden ...</td>\n",
       "    </tr>\n",
       "    <tr>\n",
       "      <th>4</th>\n",
       "      <td>Positive</td>\n",
       "      <td>Yorum yazanlara dikkat ettimde, abartılı bulmu...</td>\n",
       "      <td>yorum yazanlara dikkat ettimde  abartılı bulmu...</td>\n",
       "    </tr>\n",
       "    <tr>\n",
       "      <th>7</th>\n",
       "      <td>Positive</td>\n",
       "      <td>Benim için bir sinema klasiği. İlk izlediğimde...</td>\n",
       "      <td>benim için bir sinema klasiği  i̇lk izlediğimd...</td>\n",
       "    </tr>\n",
       "  </tbody>\n",
       "</table>\n",
       "</div>"
      ],
      "text/plain": [
       "     target                                               text  \\\n",
       "1  Positive  Çok kaliteli bir film.Yönetmen niccol az sayıd...   \n",
       "2  Positive                                  EN İYİ TURK FİLMİ   \n",
       "3  Positive  Robert Downey Jr. müthiş ötesi oynamış. Cidden...   \n",
       "4  Positive  Yorum yazanlara dikkat ettimde, abartılı bulmu...   \n",
       "7  Positive  Benim için bir sinema klasiği. İlk izlediğimde...   \n",
       "\n",
       "                                punctuations_dropped  \n",
       "1  çok kaliteli bir filmyönetmen niccol az sayıda...  \n",
       "2                              en i̇yi̇ turk fi̇lmi̇  \n",
       "3  robert downey jr müthiş ötesi oynamış  cidden ...  \n",
       "4  yorum yazanlara dikkat ettimde  abartılı bulmu...  \n",
       "7  benim için bir sinema klasiği  i̇lk izlediğimd...  "
      ]
     },
     "execution_count": 7,
     "metadata": {},
     "output_type": "execute_result"
    }
   ],
   "source": [
    "## to avoid SettingWithCopyWarning, copy the original df as dfa and return the df\n",
    "dfa = df.copy()\n",
    "dfa[\"punctuations_dropped\"] = drop_punctuations(dfa.text)\n",
    "df = dfa.copy()\n",
    "df.head()"
   ]
  },
  {
   "cell_type": "markdown",
   "metadata": {},
   "source": [
    "# Step 7:  normalize each sentence in the dataset"
   ]
  },
  {
   "cell_type": "code",
   "execution_count": 8,
   "metadata": {},
   "outputs": [],
   "source": [
    "def normalizer(stopwords_dropped_text):\n",
    "    normalized = []\n",
    "    for sentence in stopwords_dropped_text:\n",
    "        normalized.append(vu.get_normal(sentence))\n",
    "    \n",
    "    return normalized"
   ]
  },
  {
   "cell_type": "code",
   "execution_count": 9,
   "metadata": {},
   "outputs": [
    {
     "data": {
      "text/html": [
       "<div>\n",
       "<style scoped>\n",
       "    .dataframe tbody tr th:only-of-type {\n",
       "        vertical-align: middle;\n",
       "    }\n",
       "\n",
       "    .dataframe tbody tr th {\n",
       "        vertical-align: top;\n",
       "    }\n",
       "\n",
       "    .dataframe thead th {\n",
       "        text-align: right;\n",
       "    }\n",
       "</style>\n",
       "<table border=\"1\" class=\"dataframe\">\n",
       "  <thead>\n",
       "    <tr style=\"text-align: right;\">\n",
       "      <th></th>\n",
       "      <th>target</th>\n",
       "      <th>text</th>\n",
       "      <th>punctuations_dropped</th>\n",
       "      <th>normalized</th>\n",
       "    </tr>\n",
       "  </thead>\n",
       "  <tbody>\n",
       "    <tr>\n",
       "      <th>1</th>\n",
       "      <td>Positive</td>\n",
       "      <td>Çok kaliteli bir film.Yönetmen niccol az sayıd...</td>\n",
       "      <td>çok kaliteli bir filmyönetmen niccol az sayıda...</td>\n",
       "      <td>çok kaliteli bir filmyönetmen nicole az sayıda...</td>\n",
       "    </tr>\n",
       "    <tr>\n",
       "      <th>2</th>\n",
       "      <td>Positive</td>\n",
       "      <td>EN İYİ TURK FİLMİ</td>\n",
       "      <td>en i̇yi̇ turk fi̇lmi̇</td>\n",
       "      <td>en i̇yi̇ türk film</td>\n",
       "    </tr>\n",
       "    <tr>\n",
       "      <th>3</th>\n",
       "      <td>Positive</td>\n",
       "      <td>Robert Downey Jr. müthiş ötesi oynamış. Cidden...</td>\n",
       "      <td>robert downey jr müthiş ötesi oynamış  cidden ...</td>\n",
       "      <td>robert downey jr müthiş ötesi oynamış ciden bi...</td>\n",
       "    </tr>\n",
       "    <tr>\n",
       "      <th>4</th>\n",
       "      <td>Positive</td>\n",
       "      <td>Yorum yazanlara dikkat ettimde, abartılı bulmu...</td>\n",
       "      <td>yorum yazanlara dikkat ettimde  abartılı bulmu...</td>\n",
       "      <td>yorum yazanlara dikkat etimde abartılı bulmuşl...</td>\n",
       "    </tr>\n",
       "    <tr>\n",
       "      <th>7</th>\n",
       "      <td>Positive</td>\n",
       "      <td>Benim için bir sinema klasiği. İlk izlediğimde...</td>\n",
       "      <td>benim için bir sinema klasiği  i̇lk izlediğimd...</td>\n",
       "      <td>benim için bir sinema klasiği ilk izlediğimde ...</td>\n",
       "    </tr>\n",
       "  </tbody>\n",
       "</table>\n",
       "</div>"
      ],
      "text/plain": [
       "     target                                               text  \\\n",
       "1  Positive  Çok kaliteli bir film.Yönetmen niccol az sayıd...   \n",
       "2  Positive                                  EN İYİ TURK FİLMİ   \n",
       "3  Positive  Robert Downey Jr. müthiş ötesi oynamış. Cidden...   \n",
       "4  Positive  Yorum yazanlara dikkat ettimde, abartılı bulmu...   \n",
       "7  Positive  Benim için bir sinema klasiği. İlk izlediğimde...   \n",
       "\n",
       "                                punctuations_dropped  \\\n",
       "1  çok kaliteli bir filmyönetmen niccol az sayıda...   \n",
       "2                              en i̇yi̇ turk fi̇lmi̇   \n",
       "3  robert downey jr müthiş ötesi oynamış  cidden ...   \n",
       "4  yorum yazanlara dikkat ettimde  abartılı bulmu...   \n",
       "7  benim için bir sinema klasiği  i̇lk izlediğimd...   \n",
       "\n",
       "                                          normalized  \n",
       "1  çok kaliteli bir filmyönetmen nicole az sayıda...  \n",
       "2                                 en i̇yi̇ türk film  \n",
       "3  robert downey jr müthiş ötesi oynamış ciden bi...  \n",
       "4  yorum yazanlara dikkat etimde abartılı bulmuşl...  \n",
       "7  benim için bir sinema klasiği ilk izlediğimde ...  "
      ]
     },
     "execution_count": 9,
     "metadata": {},
     "output_type": "execute_result"
    }
   ],
   "source": [
    "df[\"normalized\"] = normalizer(df.punctuations_dropped)\n",
    "df.head()"
   ]
  },
  {
   "cell_type": "markdown",
   "metadata": {},
   "source": [
    "# Step 8:  stem each sentence tokens in the dataset"
   ]
  },
  {
   "cell_type": "code",
   "execution_count": 10,
   "metadata": {},
   "outputs": [],
   "source": [
    "def stemmer(normalized_text):\n",
    "    stemmed = []\n",
    "    for sentence in normalized_text:\n",
    "        stemmed.append(vu.get_stem(sentence))\n",
    "    \n",
    "    return stemmed"
   ]
  },
  {
   "cell_type": "code",
   "execution_count": 11,
   "metadata": {},
   "outputs": [
    {
     "name": "stdout",
     "output_type": "stream",
     "text": [
      "Expecting value: line 1 column 1 (char 0)\n",
      "Expecting value: line 1 column 1 (char 0)\n",
      "Expecting value: line 1 column 1 (char 0)\n",
      "Expecting value: line 1 column 1 (char 0)\n",
      "Expecting value: line 1 column 1 (char 0)\n",
      "Expecting value: line 1 column 1 (char 0)\n",
      "Expecting value: line 1 column 1 (char 0)\n",
      "Expecting value: line 1 column 1 (char 0)\n",
      "Expecting value: line 1 column 1 (char 0)\n",
      "Expecting value: line 1 column 1 (char 0)\n",
      "Expecting value: line 1 column 1 (char 0)\n",
      "Expecting value: line 1 column 1 (char 0)\n",
      "Expecting value: line 1 column 1 (char 0)\n",
      "Expecting value: line 1 column 1 (char 0)\n",
      "Expecting value: line 1 column 1 (char 0)\n",
      "Expecting value: line 1 column 1 (char 0)\n",
      "Expecting value: line 1 column 1 (char 0)\n",
      "Expecting value: line 1 column 1 (char 0)\n",
      "Expecting value: line 1 column 1 (char 0)\n",
      "Expecting value: line 1 column 1 (char 0)\n",
      "Expecting value: line 1 column 1 (char 0)\n",
      "Expecting value: line 1 column 1 (char 0)\n",
      "Expecting value: line 1 column 1 (char 0)\n",
      "Expecting value: line 1 column 1 (char 0)\n",
      "Expecting value: line 1 column 1 (char 0)\n",
      "Expecting value: line 1 column 1 (char 0)\n",
      "Expecting value: line 1 column 1 (char 0)\n",
      "Expecting value: line 1 column 1 (char 0)\n",
      "Expecting value: line 1 column 1 (char 0)\n"
     ]
    },
    {
     "data": {
      "text/html": [
       "<div>\n",
       "<style scoped>\n",
       "    .dataframe tbody tr th:only-of-type {\n",
       "        vertical-align: middle;\n",
       "    }\n",
       "\n",
       "    .dataframe tbody tr th {\n",
       "        vertical-align: top;\n",
       "    }\n",
       "\n",
       "    .dataframe thead th {\n",
       "        text-align: right;\n",
       "    }\n",
       "</style>\n",
       "<table border=\"1\" class=\"dataframe\">\n",
       "  <thead>\n",
       "    <tr style=\"text-align: right;\">\n",
       "      <th></th>\n",
       "      <th>target</th>\n",
       "      <th>text</th>\n",
       "      <th>punctuations_dropped</th>\n",
       "      <th>normalized</th>\n",
       "      <th>stemmed</th>\n",
       "    </tr>\n",
       "  </thead>\n",
       "  <tbody>\n",
       "    <tr>\n",
       "      <th>1</th>\n",
       "      <td>Positive</td>\n",
       "      <td>Çok kaliteli bir film.Yönetmen niccol az sayıd...</td>\n",
       "      <td>çok kaliteli bir filmyönetmen niccol az sayıda...</td>\n",
       "      <td>çok kaliteli bir filmyönetmen nicole az sayıda...</td>\n",
       "      <td>çok kalite bir filmyönet nicole az sayı ama ço...</td>\n",
       "    </tr>\n",
       "    <tr>\n",
       "      <th>2</th>\n",
       "      <td>Positive</td>\n",
       "      <td>EN İYİ TURK FİLMİ</td>\n",
       "      <td>en i̇yi̇ turk fi̇lmi̇</td>\n",
       "      <td>en i̇yi̇ türk film</td>\n",
       "      <td>en i tÃ¼rk film</td>\n",
       "    </tr>\n",
       "    <tr>\n",
       "      <th>3</th>\n",
       "      <td>Positive</td>\n",
       "      <td>Robert Downey Jr. müthiş ötesi oynamış. Cidden...</td>\n",
       "      <td>robert downey jr müthiş ötesi oynamış  cidden ...</td>\n",
       "      <td>robert downey jr müthiş ötesi oynamış ciden bi...</td>\n",
       "      <td>robert downey jr müthiş öte oyna ciden bir süp...</td>\n",
       "    </tr>\n",
       "    <tr>\n",
       "      <th>4</th>\n",
       "      <td>Positive</td>\n",
       "      <td>Yorum yazanlara dikkat ettimde, abartılı bulmu...</td>\n",
       "      <td>yorum yazanlara dikkat ettimde  abartılı bulmu...</td>\n",
       "      <td>yorum yazanlara dikkat etimde abartılı bulmuşl...</td>\n",
       "      <td>yor yaza dikkat eti abart bul film sen çizgi r...</td>\n",
       "    </tr>\n",
       "    <tr>\n",
       "      <th>7</th>\n",
       "      <td>Positive</td>\n",
       "      <td>Benim için bir sinema klasiği. İlk izlediğimde...</td>\n",
       "      <td>benim için bir sinema klasiği  i̇lk izlediğimd...</td>\n",
       "      <td>benim için bir sinema klasiği ilk izlediğimde ...</td>\n",
       "      <td>ben iç bir sine klasik ilk izle nefes kes adet...</td>\n",
       "    </tr>\n",
       "  </tbody>\n",
       "</table>\n",
       "</div>"
      ],
      "text/plain": [
       "     target                                               text  \\\n",
       "1  Positive  Çok kaliteli bir film.Yönetmen niccol az sayıd...   \n",
       "2  Positive                                  EN İYİ TURK FİLMİ   \n",
       "3  Positive  Robert Downey Jr. müthiş ötesi oynamış. Cidden...   \n",
       "4  Positive  Yorum yazanlara dikkat ettimde, abartılı bulmu...   \n",
       "7  Positive  Benim için bir sinema klasiği. İlk izlediğimde...   \n",
       "\n",
       "                                punctuations_dropped  \\\n",
       "1  çok kaliteli bir filmyönetmen niccol az sayıda...   \n",
       "2                              en i̇yi̇ turk fi̇lmi̇   \n",
       "3  robert downey jr müthiş ötesi oynamış  cidden ...   \n",
       "4  yorum yazanlara dikkat ettimde  abartılı bulmu...   \n",
       "7  benim için bir sinema klasiği  i̇lk izlediğimd...   \n",
       "\n",
       "                                          normalized  \\\n",
       "1  çok kaliteli bir filmyönetmen nicole az sayıda...   \n",
       "2                                 en i̇yi̇ türk film   \n",
       "3  robert downey jr müthiş ötesi oynamış ciden bi...   \n",
       "4  yorum yazanlara dikkat etimde abartılı bulmuşl...   \n",
       "7  benim için bir sinema klasiği ilk izlediğimde ...   \n",
       "\n",
       "                                             stemmed  \n",
       "1  çok kalite bir filmyönet nicole az sayı ama ço...  \n",
       "2                                    en i tÃ¼rk film  \n",
       "3  robert downey jr müthiş öte oyna ciden bir süp...  \n",
       "4  yor yaza dikkat eti abart bul film sen çizgi r...  \n",
       "7  ben iç bir sine klasik ilk izle nefes kes adet...  "
      ]
     },
     "execution_count": 11,
     "metadata": {},
     "output_type": "execute_result"
    }
   ],
   "source": [
    "df[\"stemmed\"] = stemmer(df.normalized)\n",
    "df.head()"
   ]
  },
  {
   "cell_type": "markdown",
   "metadata": {},
   "source": [
    "# Step 9:  drop unnecessary columns in the dataset"
   ]
  },
  {
   "cell_type": "code",
   "execution_count": 12,
   "metadata": {},
   "outputs": [
    {
     "data": {
      "text/html": [
       "<div>\n",
       "<style scoped>\n",
       "    .dataframe tbody tr th:only-of-type {\n",
       "        vertical-align: middle;\n",
       "    }\n",
       "\n",
       "    .dataframe tbody tr th {\n",
       "        vertical-align: top;\n",
       "    }\n",
       "\n",
       "    .dataframe thead th {\n",
       "        text-align: right;\n",
       "    }\n",
       "</style>\n",
       "<table border=\"1\" class=\"dataframe\">\n",
       "  <thead>\n",
       "    <tr style=\"text-align: right;\">\n",
       "      <th></th>\n",
       "      <th>target</th>\n",
       "      <th>stemmed</th>\n",
       "    </tr>\n",
       "  </thead>\n",
       "  <tbody>\n",
       "    <tr>\n",
       "      <th>1</th>\n",
       "      <td>Positive</td>\n",
       "      <td>çok kalite bir filmyönet nicole az sayı ama ço...</td>\n",
       "    </tr>\n",
       "    <tr>\n",
       "      <th>2</th>\n",
       "      <td>Positive</td>\n",
       "      <td>en i tÃ¼rk film</td>\n",
       "    </tr>\n",
       "    <tr>\n",
       "      <th>3</th>\n",
       "      <td>Positive</td>\n",
       "      <td>robert downey jr müthiş öte oyna ciden bir süp...</td>\n",
       "    </tr>\n",
       "    <tr>\n",
       "      <th>4</th>\n",
       "      <td>Positive</td>\n",
       "      <td>yor yaza dikkat eti abart bul film sen çizgi r...</td>\n",
       "    </tr>\n",
       "    <tr>\n",
       "      <th>7</th>\n",
       "      <td>Positive</td>\n",
       "      <td>ben iç bir sine klasik ilk izle nefes kes adet...</td>\n",
       "    </tr>\n",
       "  </tbody>\n",
       "</table>\n",
       "</div>"
      ],
      "text/plain": [
       "     target                                            stemmed\n",
       "1  Positive  çok kalite bir filmyönet nicole az sayı ama ço...\n",
       "2  Positive                                    en i tÃ¼rk film\n",
       "3  Positive  robert downey jr müthiş öte oyna ciden bir süp...\n",
       "4  Positive  yor yaza dikkat eti abart bul film sen çizgi r...\n",
       "7  Positive  ben iç bir sine klasik ilk izle nefes kes adet..."
      ]
     },
     "execution_count": 12,
     "metadata": {},
     "output_type": "execute_result"
    }
   ],
   "source": [
    "df = df.drop(['text', 'punctuations_dropped', 'normalized'], axis=1)\n",
    "df.head()"
   ]
  },
  {
   "cell_type": "markdown",
   "metadata": {},
   "source": [
    "# Step 10:  create an instance of \"DictionaryBasedSentimentAnalyzer\" classifier"
   ]
  },
  {
   "cell_type": "code",
   "execution_count": 13,
   "metadata": {},
   "outputs": [],
   "source": [
    "model = DictionaryBasedSentimentAnalyzer()\n",
    "model.fit()"
   ]
  },
  {
   "cell_type": "markdown",
   "metadata": {},
   "source": [
    "# Step 11: take all dataset as test data"
   ]
  },
  {
   "cell_type": "code",
   "execution_count": 14,
   "metadata": {},
   "outputs": [],
   "source": [
    "## since there the model is pretrained we take all data as test data\n",
    "X_test = df.stemmed\n",
    "## convert targets to numbers since cross_validate works with numbers\n",
    "y_test = df.target.replace(\"Positive\", 1).replace(\"Negative\", 0)"
   ]
  },
  {
   "cell_type": "markdown",
   "metadata": {},
   "source": [
    "# Step 12:  predict the test data"
   ]
  },
  {
   "cell_type": "code",
   "execution_count": 15,
   "metadata": {},
   "outputs": [],
   "source": [
    "y_pred = model.predict(X_test)"
   ]
  },
  {
   "cell_type": "markdown",
   "metadata": {},
   "source": [
    "# Step 13:  observe the accuracy score"
   ]
  },
  {
   "cell_type": "code",
   "execution_count": 16,
   "metadata": {},
   "outputs": [
    {
     "data": {
      "text/plain": [
       "0.7618543046357615"
      ]
     },
     "execution_count": 16,
     "metadata": {},
     "output_type": "execute_result"
    }
   ],
   "source": [
    "model.score(y_test)"
   ]
  },
  {
   "cell_type": "markdown",
   "metadata": {},
   "source": [
    "# Step 14:  create a classification_report"
   ]
  },
  {
   "cell_type": "code",
   "execution_count": 17,
   "metadata": {},
   "outputs": [
    {
     "name": "stdout",
     "output_type": "stream",
     "text": [
      "              precision    recall  f1-score   support\n",
      "\n",
      "    Positive       0.27      0.24      0.25       637\n",
      "    Negative       0.85      0.87      0.86      3138\n",
      "\n",
      "   micro avg       0.76      0.76      0.76      3775\n",
      "   macro avg       0.56      0.55      0.56      3775\n",
      "weighted avg       0.75      0.76      0.76      3775\n",
      "\n"
     ]
    }
   ],
   "source": [
    "target_names = df.target.unique()\n",
    "print(classification_report(y_test, y_pred, target_names=target_names))"
   ]
  },
  {
   "cell_type": "markdown",
   "metadata": {},
   "source": [
    "# Step 15:  observe the confusion matrix"
   ]
  },
  {
   "cell_type": "code",
   "execution_count": 18,
   "metadata": {},
   "outputs": [
    {
     "data": {
      "text/plain": [
       "array([[ 153,  484],\n",
       "       [ 415, 2723]], dtype=int64)"
      ]
     },
     "execution_count": 18,
     "metadata": {},
     "output_type": "execute_result"
    }
   ],
   "source": [
    "confusion_matrix(y_test, y_pred)"
   ]
  },
  {
   "cell_type": "markdown",
   "metadata": {},
   "source": [
    "# Step 16:  observe the prediction probabilities of the wrong predictions"
   ]
  },
  {
   "cell_type": "code",
   "execution_count": 19,
   "metadata": {},
   "outputs": [
    {
     "data": {
      "text/html": [
       "<div>\n",
       "<style scoped>\n",
       "    .dataframe tbody tr th:only-of-type {\n",
       "        vertical-align: middle;\n",
       "    }\n",
       "\n",
       "    .dataframe tbody tr th {\n",
       "        vertical-align: top;\n",
       "    }\n",
       "\n",
       "    .dataframe thead th {\n",
       "        text-align: right;\n",
       "    }\n",
       "</style>\n",
       "<table border=\"1\" class=\"dataframe\">\n",
       "  <thead>\n",
       "    <tr style=\"text-align: right;\">\n",
       "      <th></th>\n",
       "      <th>predict_proba</th>\n",
       "      <th>pred</th>\n",
       "      <th>real</th>\n",
       "      <th>stemmed</th>\n",
       "    </tr>\n",
       "  </thead>\n",
       "  <tbody>\n",
       "    <tr>\n",
       "      <th>9</th>\n",
       "      <td>0.555556</td>\n",
       "      <td>0</td>\n",
       "      <td>1</td>\n",
       "      <td>film bit hala tam ne ol bitik ayık deği ama ho...</td>\n",
       "    </tr>\n",
       "    <tr>\n",
       "      <th>10</th>\n",
       "      <td>0.541096</td>\n",
       "      <td>0</td>\n",
       "      <td>1</td>\n",
       "      <td>sine tarih gel geç en iyi film tartış ama bu s...</td>\n",
       "    </tr>\n",
       "    <tr>\n",
       "      <th>22</th>\n",
       "      <td>0.611111</td>\n",
       "      <td>0</td>\n",
       "      <td>1</td>\n",
       "      <td>öyle çok gül ki ev ol gerek bir animasyon</td>\n",
       "    </tr>\n",
       "    <tr>\n",
       "      <th>23</th>\n",
       "      <td>0.600000</td>\n",
       "      <td>0</td>\n",
       "      <td>1</td>\n",
       "      <td>hey re already her</td>\n",
       "    </tr>\n",
       "    <tr>\n",
       "      <th>26</th>\n",
       "      <td>0.688334</td>\n",
       "      <td>1</td>\n",
       "      <td>0</td>\n",
       "      <td>201 yıl türkiy de sine salon yaklaş 72 milyon ...</td>\n",
       "    </tr>\n",
       "  </tbody>\n",
       "</table>\n",
       "</div>"
      ],
      "text/plain": [
       "    predict_proba  pred  real  \\\n",
       "9        0.555556     0     1   \n",
       "10       0.541096     0     1   \n",
       "22       0.611111     0     1   \n",
       "23       0.600000     0     1   \n",
       "26       0.688334     1     0   \n",
       "\n",
       "                                              stemmed  \n",
       "9   film bit hala tam ne ol bitik ayık deği ama ho...  \n",
       "10  sine tarih gel geç en iyi film tartış ama bu s...  \n",
       "22          öyle çok gül ki ev ol gerek bir animasyon  \n",
       "23                                 hey re already her  \n",
       "26  201 yıl türkiy de sine salon yaklaş 72 milyon ...  "
      ]
     },
     "execution_count": 19,
     "metadata": {},
     "output_type": "execute_result"
    }
   ],
   "source": [
    "pred_prob = model.predict_proba()\n",
    "data = {'predict_proba': pred_prob,'pred': y_pred, 'real': y_test,'stemmed': X_test}\n",
    "df_pred_prob = pd.DataFrame(data=data)\n",
    "df_pred_prob = df_pred_prob[df_pred_prob.pred != df_pred_prob.real]\n",
    "df_pred_prob.head()"
   ]
  },
  {
   "cell_type": "markdown",
   "metadata": {},
   "source": [
    "# Step 17:  observe the roc auc curve"
   ]
  },
  {
   "cell_type": "code",
   "execution_count": 20,
   "metadata": {},
   "outputs": [
    {
     "data": {
      "text/plain": [
       "0.6090023742987414"
      ]
     },
     "execution_count": 20,
     "metadata": {},
     "output_type": "execute_result"
    }
   ],
   "source": [
    "roc_auc_score(y_test, pred_prob)"
   ]
  },
  {
   "cell_type": "markdown",
   "metadata": {},
   "source": [
    "# Step 18:  apply ten-fold cross validation"
   ]
  },
  {
   "cell_type": "code",
   "execution_count": 21,
   "metadata": {},
   "outputs": [
    {
     "name": "stdout",
     "output_type": "stream",
     "text": [
      "f1_macro:0.56\n",
      "precision_macro:0.56\n",
      "recall_macro:0.55\n",
      "accuracy:0.76\n"
     ]
    }
   ],
   "source": [
    "scoring_list = [\"f1_macro\",\"precision_macro\",\"recall_macro\",\"accuracy\"]\n",
    "scores = cross_validate(model, X_test, y_test, cv=10, scoring=scoring_list)\n",
    "for scr in scoring_list:\n",
    "    print(scr+\":\"+\"{:.2f}\".format(scores[\"test_\"+scr].mean()))"
   ]
  },
  {
   "cell_type": "markdown",
   "metadata": {},
   "source": [
    "# Step 19:  create pipeline for the model"
   ]
  },
  {
   "cell_type": "code",
   "execution_count": 22,
   "metadata": {},
   "outputs": [],
   "source": [
    "model = Pipeline([\n",
    "    ('model', model),\n",
    "])"
   ]
  },
  {
   "cell_type": "markdown",
   "metadata": {},
   "source": [
    "# Step 20:  pickle the model"
   ]
  },
  {
   "cell_type": "code",
   "execution_count": 24,
   "metadata": {},
   "outputs": [
    {
     "data": {
      "text/plain": [
       "['Turkish_Dictionary(Rules)_Based_Sentiment_Analysis.pkl']"
      ]
     },
     "execution_count": 24,
     "metadata": {},
     "output_type": "execute_result"
    }
   ],
   "source": [
    "joblib.dump(model,'Turkish_Dictionary(Rules)_Based_Sentiment_Analysis.pkl')"
   ]
  },
  {
   "cell_type": "code",
   "execution_count": null,
   "metadata": {},
   "outputs": [],
   "source": []
  }
 ],
 "metadata": {
  "kernelspec": {
   "display_name": "Python 3",
   "language": "python",
   "name": "python3"
  },
  "language_info": {
   "codemirror_mode": {
    "name": "ipython",
    "version": 3
   },
   "file_extension": ".py",
   "mimetype": "text/x-python",
   "name": "python",
   "nbconvert_exporter": "python",
   "pygments_lexer": "ipython3",
   "version": "3.7.1"
  }
 },
 "nbformat": 4,
 "nbformat_minor": 2
}
